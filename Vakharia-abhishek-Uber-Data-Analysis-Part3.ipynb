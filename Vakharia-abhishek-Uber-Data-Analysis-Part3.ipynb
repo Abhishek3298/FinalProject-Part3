{
 "cells": [
  {
   "cell_type": "markdown",
   "id": "aed70ae6",
   "metadata": {},
   "source": [
    "<h2><center>Final Project - Part 3</center></h2>\n",
    "<h1><center>Uber Data Analysis in Depth</center></h1>\n",
    "<h3><center>Author - Abhishek Vakharia&nbsp&nbsp Net ID - avakha2</center></h3>"
   ]
  },
  {
   "cell_type": "markdown",
   "id": "aad93ca7",
   "metadata": {},
   "source": [
    "#### Uber Data Analysis - Part 3 of Final Submission\n",
    "\n",
    "<b>Basic Functionalities on the Data Set and a basic plot</b>\n",
    "\n",
    "I have taken up the Uber pick ups in NYC Data Set from Kaggle for the month of April, May, June, July, August and September for the year 2014\n",
    "\n",
    "Link to the DataSet: https://www.kaggle.com/fivethirtyeight/uber-pickups-in-new-york-city/version/2\n",
    "\n",
    "Data Type: Raw\n",
    "\n",
    "Data Size:</br> \n",
    "uber-raw-data-apr14.csv - 26.11 MB</br>\n",
    "uber-raw-data-may14.csv - 30.17 MB</br>\n",
    "uber-raw-data-jun14.csv - 30.70 MB</br>\n",
    "uber-raw-data-jul14.csv - 36.87 MB</br>\n",
    "uber-raw-data-aug14.csv - 38.32 MB</br>\n",
    "uber-raw-data-sep14.csv - 47.54 MB</br>\n",
    "\n",
    "For this part of the project I have analysed the Uber rides per base based on parameters like the Month and Day of the week.</br>\n",
    "\n",
    "\n",
    "<b>The Contextual data set</b>: \n",
    "\n",
    "I had provided two data sets in Part 2 but I came across a better data set to make the primary data comparable to it.</br>\n",
    "The chosen data source: https://www.kaggle.com/fivethirtyeight/uber-pickups-in-new-york-city/version/2?select=Uber-Jan-Feb-FOIL.csv</br>\n",
    "The data gives insights into the trips for the months of January 2015 - June 2015 for the same bases as in the primary data set.</br>\n",
    "\n",
    "#### Introduction </br>\n",
    "I have always wanted to know how these huge companies dealing with dynamic data; collect it and then draw conclusions. The primary data set belongs to Uber pick ups in NYC for a few given areas and the contextual data set is also on the similar lines but the two data sets belong to different timeslines, hence one can compare both of the visualzations and conclude on which areas and timeframes are favorable for Uber and thus draw conclusions for Uber to take steps if necessary.\n",
    "\n",
    "\n",
    "#### Choice of Data Sets </br>\n",
    "As mentioned before the primary data set is for pick ups in NYC for the months of April'2014 -  September 2014 and the contextual data set is for pick ups in NYC for the months of January'2015 - June'2015, hence making comparision easier and drawing patterns easier."
   ]
  },
  {
   "cell_type": "markdown",
   "id": "37c1e939",
   "metadata": {},
   "source": [
    "#### Importing libraries"
   ]
  },
  {
   "cell_type": "code",
   "execution_count": 1,
   "id": "e532fa87",
   "metadata": {},
   "outputs": [],
   "source": [
    "import pandas as pd\n",
    "import calendar\n",
    "import matplotlib.pyplot as plt\n",
    "from matplotlib.font_manager import FontProperties\n",
    "import ipywidgets"
   ]
  },
  {
   "cell_type": "markdown",
   "id": "84a70714",
   "metadata": {},
   "source": [
    "#### Reading the Data "
   ]
  },
  {
   "cell_type": "code",
   "execution_count": 2,
   "id": "0fe756ee",
   "metadata": {},
   "outputs": [],
   "source": [
    "# I have attached the data sets along please download them in the same location as the notbook and run them together\n",
    "df1=pd.read_csv(\"uber-raw-data-apr14.csv.zip\", compression = 'zip')\n",
    "df2=pd.read_csv(\"uber-raw-data-may14.csv.zip\", compression = 'zip')\n",
    "df3=pd.read_csv(\"uber-raw-data-jun14.csv.zip\", compression = 'zip')\n",
    "df4=pd.read_csv(\"uber-raw-data-jul14.csv.zip\", compression = 'zip')\n",
    "df5=pd.read_csv(\"uber-raw-data-aug14.csv.zip\", compression = 'zip')\n",
    "df6=pd.read_csv(\"uber-raw-data-sep14.csv.zip\", compression = 'zip')"
   ]
  },
  {
   "cell_type": "markdown",
   "id": "f0a8c06d",
   "metadata": {},
   "source": [
    "#### Aggregating the Primary Data "
   ]
  },
  {
   "cell_type": "code",
   "execution_count": 3,
   "id": "5c9f54c6",
   "metadata": {},
   "outputs": [],
   "source": [
    "#Aggregating the 6 different files using the concat function \n",
    "final_df=pd.concat([df1,df2,df3,df4,df5,df6])"
   ]
  },
  {
   "cell_type": "code",
   "execution_count": 4,
   "id": "ea39ba77",
   "metadata": {},
   "outputs": [
    {
     "data": {
      "text/html": [
       "<div>\n",
       "<style scoped>\n",
       "    .dataframe tbody tr th:only-of-type {\n",
       "        vertical-align: middle;\n",
       "    }\n",
       "\n",
       "    .dataframe tbody tr th {\n",
       "        vertical-align: top;\n",
       "    }\n",
       "\n",
       "    .dataframe thead th {\n",
       "        text-align: right;\n",
       "    }\n",
       "</style>\n",
       "<table border=\"1\" class=\"dataframe\">\n",
       "  <thead>\n",
       "    <tr style=\"text-align: right;\">\n",
       "      <th></th>\n",
       "      <th>Date/Time</th>\n",
       "      <th>Lat</th>\n",
       "      <th>Lon</th>\n",
       "      <th>Base</th>\n",
       "    </tr>\n",
       "  </thead>\n",
       "  <tbody>\n",
       "    <tr>\n",
       "      <th>0</th>\n",
       "      <td>4/1/2014 0:11:00</td>\n",
       "      <td>40.7690</td>\n",
       "      <td>-73.9549</td>\n",
       "      <td>B02512</td>\n",
       "    </tr>\n",
       "    <tr>\n",
       "      <th>1</th>\n",
       "      <td>4/1/2014 0:17:00</td>\n",
       "      <td>40.7267</td>\n",
       "      <td>-74.0345</td>\n",
       "      <td>B02512</td>\n",
       "    </tr>\n",
       "    <tr>\n",
       "      <th>2</th>\n",
       "      <td>4/1/2014 0:21:00</td>\n",
       "      <td>40.7316</td>\n",
       "      <td>-73.9873</td>\n",
       "      <td>B02512</td>\n",
       "    </tr>\n",
       "    <tr>\n",
       "      <th>3</th>\n",
       "      <td>4/1/2014 0:28:00</td>\n",
       "      <td>40.7588</td>\n",
       "      <td>-73.9776</td>\n",
       "      <td>B02512</td>\n",
       "    </tr>\n",
       "    <tr>\n",
       "      <th>4</th>\n",
       "      <td>4/1/2014 0:33:00</td>\n",
       "      <td>40.7594</td>\n",
       "      <td>-73.9722</td>\n",
       "      <td>B02512</td>\n",
       "    </tr>\n",
       "    <tr>\n",
       "      <th>...</th>\n",
       "      <td>...</td>\n",
       "      <td>...</td>\n",
       "      <td>...</td>\n",
       "      <td>...</td>\n",
       "    </tr>\n",
       "    <tr>\n",
       "      <th>1028131</th>\n",
       "      <td>9/30/2014 22:57:00</td>\n",
       "      <td>40.7668</td>\n",
       "      <td>-73.9845</td>\n",
       "      <td>B02764</td>\n",
       "    </tr>\n",
       "    <tr>\n",
       "      <th>1028132</th>\n",
       "      <td>9/30/2014 22:57:00</td>\n",
       "      <td>40.6911</td>\n",
       "      <td>-74.1773</td>\n",
       "      <td>B02764</td>\n",
       "    </tr>\n",
       "    <tr>\n",
       "      <th>1028133</th>\n",
       "      <td>9/30/2014 22:58:00</td>\n",
       "      <td>40.8519</td>\n",
       "      <td>-73.9319</td>\n",
       "      <td>B02764</td>\n",
       "    </tr>\n",
       "    <tr>\n",
       "      <th>1028134</th>\n",
       "      <td>9/30/2014 22:58:00</td>\n",
       "      <td>40.7081</td>\n",
       "      <td>-74.0066</td>\n",
       "      <td>B02764</td>\n",
       "    </tr>\n",
       "    <tr>\n",
       "      <th>1028135</th>\n",
       "      <td>9/30/2014 22:58:00</td>\n",
       "      <td>40.7140</td>\n",
       "      <td>-73.9496</td>\n",
       "      <td>B02764</td>\n",
       "    </tr>\n",
       "  </tbody>\n",
       "</table>\n",
       "<p>4534327 rows × 4 columns</p>\n",
       "</div>"
      ],
      "text/plain": [
       "                  Date/Time      Lat      Lon    Base\n",
       "0          4/1/2014 0:11:00  40.7690 -73.9549  B02512\n",
       "1          4/1/2014 0:17:00  40.7267 -74.0345  B02512\n",
       "2          4/1/2014 0:21:00  40.7316 -73.9873  B02512\n",
       "3          4/1/2014 0:28:00  40.7588 -73.9776  B02512\n",
       "4          4/1/2014 0:33:00  40.7594 -73.9722  B02512\n",
       "...                     ...      ...      ...     ...\n",
       "1028131  9/30/2014 22:57:00  40.7668 -73.9845  B02764\n",
       "1028132  9/30/2014 22:57:00  40.6911 -74.1773  B02764\n",
       "1028133  9/30/2014 22:58:00  40.8519 -73.9319  B02764\n",
       "1028134  9/30/2014 22:58:00  40.7081 -74.0066  B02764\n",
       "1028135  9/30/2014 22:58:00  40.7140 -73.9496  B02764\n",
       "\n",
       "[4534327 rows x 4 columns]"
      ]
     },
     "execution_count": 4,
     "metadata": {},
     "output_type": "execute_result"
    }
   ],
   "source": [
    "#Checking the Final DF\n",
    "final_df"
   ]
  },
  {
   "cell_type": "code",
   "execution_count": 5,
   "id": "89fd35f0",
   "metadata": {
    "scrolled": true
   },
   "outputs": [
    {
     "data": {
      "text/html": [
       "<div>\n",
       "<style scoped>\n",
       "    .dataframe tbody tr th:only-of-type {\n",
       "        vertical-align: middle;\n",
       "    }\n",
       "\n",
       "    .dataframe tbody tr th {\n",
       "        vertical-align: top;\n",
       "    }\n",
       "\n",
       "    .dataframe thead th {\n",
       "        text-align: right;\n",
       "    }\n",
       "</style>\n",
       "<table border=\"1\" class=\"dataframe\">\n",
       "  <thead>\n",
       "    <tr style=\"text-align: right;\">\n",
       "      <th></th>\n",
       "      <th>Lat</th>\n",
       "      <th>Lon</th>\n",
       "    </tr>\n",
       "  </thead>\n",
       "  <tbody>\n",
       "    <tr>\n",
       "      <th>count</th>\n",
       "      <td>4.534327e+06</td>\n",
       "      <td>4.534327e+06</td>\n",
       "    </tr>\n",
       "    <tr>\n",
       "      <th>mean</th>\n",
       "      <td>4.073926e+01</td>\n",
       "      <td>-7.397302e+01</td>\n",
       "    </tr>\n",
       "    <tr>\n",
       "      <th>std</th>\n",
       "      <td>3.994991e-02</td>\n",
       "      <td>5.726670e-02</td>\n",
       "    </tr>\n",
       "    <tr>\n",
       "      <th>min</th>\n",
       "      <td>3.965690e+01</td>\n",
       "      <td>-7.492900e+01</td>\n",
       "    </tr>\n",
       "    <tr>\n",
       "      <th>25%</th>\n",
       "      <td>4.072110e+01</td>\n",
       "      <td>-7.399650e+01</td>\n",
       "    </tr>\n",
       "    <tr>\n",
       "      <th>50%</th>\n",
       "      <td>4.074220e+01</td>\n",
       "      <td>-7.398340e+01</td>\n",
       "    </tr>\n",
       "    <tr>\n",
       "      <th>75%</th>\n",
       "      <td>4.076100e+01</td>\n",
       "      <td>-7.396530e+01</td>\n",
       "    </tr>\n",
       "    <tr>\n",
       "      <th>max</th>\n",
       "      <td>4.211660e+01</td>\n",
       "      <td>-7.206660e+01</td>\n",
       "    </tr>\n",
       "  </tbody>\n",
       "</table>\n",
       "</div>"
      ],
      "text/plain": [
       "                Lat           Lon\n",
       "count  4.534327e+06  4.534327e+06\n",
       "mean   4.073926e+01 -7.397302e+01\n",
       "std    3.994991e-02  5.726670e-02\n",
       "min    3.965690e+01 -7.492900e+01\n",
       "25%    4.072110e+01 -7.399650e+01\n",
       "50%    4.074220e+01 -7.398340e+01\n",
       "75%    4.076100e+01 -7.396530e+01\n",
       "max    4.211660e+01 -7.206660e+01"
      ]
     },
     "execution_count": 5,
     "metadata": {},
     "output_type": "execute_result"
    }
   ],
   "source": [
    "# Initally summary of the Data Set \n",
    "final_df.describe()"
   ]
  },
  {
   "cell_type": "markdown",
   "id": "60299cca",
   "metadata": {},
   "source": [
    "#### Transforming the Data and fetching what is necessary "
   ]
  },
  {
   "cell_type": "code",
   "execution_count": 6,
   "id": "708eb96e",
   "metadata": {},
   "outputs": [],
   "source": [
    "final_df['Date/Time'] = pd.to_datetime(final_df['Date/Time'])"
   ]
  },
  {
   "cell_type": "code",
   "execution_count": 7,
   "id": "21ad6986",
   "metadata": {},
   "outputs": [],
   "source": [
    "# Fetching the Month from the data set\n",
    "final_df['Month'] = final_df['Date/Time'].dt.month"
   ]
  },
  {
   "cell_type": "code",
   "execution_count": 8,
   "id": "95d5064f",
   "metadata": {},
   "outputs": [
    {
     "data": {
      "text/plain": [
       "0          4\n",
       "1          4\n",
       "2          4\n",
       "3          4\n",
       "4          4\n",
       "          ..\n",
       "1028131    9\n",
       "1028132    9\n",
       "1028133    9\n",
       "1028134    9\n",
       "1028135    9\n",
       "Name: Month, Length: 4534327, dtype: int64"
      ]
     },
     "execution_count": 8,
     "metadata": {},
     "output_type": "execute_result"
    }
   ],
   "source": [
    "final_df['Month']"
   ]
  },
  {
   "cell_type": "code",
   "execution_count": 9,
   "id": "d3ba7bbd",
   "metadata": {},
   "outputs": [],
   "source": [
    "#Sorting the data according to the month \n",
    "final_df=final_df.sort_values(by='Month', ascending=False)\n",
    "\n",
    "#Converting the month values to month names \n",
    "final_df['Month'] = final_df['Month'].apply(lambda x: calendar.month_abbr[x])"
   ]
  },
  {
   "cell_type": "code",
   "execution_count": 10,
   "id": "5f33f5a6",
   "metadata": {},
   "outputs": [],
   "source": [
    "final_df['Month']"
   ]
  },
  {
   "cell_type": "code",
   "execution_count": 11,
   "id": "2c113a44",
   "metadata": {},
   "outputs": [],
   "source": [
    "#Fetching the day from the data set \n",
    "final_df['Day'] = final_df['Date/Time'].dt.day"
   ]
  },
  {
   "cell_type": "code",
   "execution_count": 12,
   "id": "6aaead3d",
   "metadata": {},
   "outputs": [],
   "source": [
    "#Fetching the day of the weel from the data set \n",
    "final_df['DOW'] = final_df['Date/Time'].dt.dayofweek"
   ]
  },
  {
   "cell_type": "code",
   "execution_count": 13,
   "id": "d410743a",
   "metadata": {},
   "outputs": [
    {
     "data": {
      "text/plain": [
       "<matplotlib.legend.Legend at 0x2b121dff3c8>"
      ]
     },
     "execution_count": 13,
     "metadata": {},
     "output_type": "execute_result"
    },
    {
     "data": {
      "image/png": "[encoded data removed]",
      "text/plain": [
       "<Figure size 432x288 with 1 Axes>"
      ]
     },
     "metadata": {
      "needs_background": "light"
     },
     "output_type": "display_data"
    }
   ],
   "source": [
    "#Trips Every Day for Each Month\n",
    "final_df.groupby(['Month','Day'])['Day'].count().unstack('Month').plot.bar(stacked=True,color=(\"rosybrown\",\"lightcoral\",\"indianred\",\"brown\",\"maroon\",\"black\"),title=\"Trips by Every Day\").legend(bbox_to_anchor=(1.2, 1))"
   ]
  },
  {
   "cell_type": "code",
   "execution_count": 14,
   "id": "9ad2acfe",
   "metadata": {},
   "outputs": [
    {
     "data": {
      "text/plain": [
       "<matplotlib.legend.Legend at 0x2b121ad1e08>"
      ]
     },
     "execution_count": 14,
     "metadata": {},
     "output_type": "execute_result"
    },
    {
     "data": {
      "image/png": "[encoded data removed]",
      "text/plain": [
       "<Figure size 720x504 with 1 Axes>"
      ]
     },
     "metadata": {
      "needs_background": "light"
     },
     "output_type": "display_data"
    }
   ],
   "source": [
    "# Trips by Day for each Month\n",
    "final_df.groupby(['Month','DOW'])['Month'].count().unstack('DOW').plot.bar(stacked=False,color=(\"yellow\",\"mediumspringgreen\",\"chartreuse\",\"yellowgreen\",\"mediumseagreen\",\"green\",\"olive\"),title=\"Trips by Day for each Month\",figsize=(10,7),width=0.8,legend=False).legend(bbox_to_anchor=(1.2, 1))\n"
   ]
  },
  {
   "cell_type": "code",
   "execution_count": 15,
   "id": "d42929ce",
   "metadata": {},
   "outputs": [],
   "source": [
    "# Fetching the hour, minute and second \n",
    "final_df['Hour'] = pd.DatetimeIndex(final_df['Date/Time']).hour\n",
    "final_df['Minute'] = pd.DatetimeIndex(final_df['Date/Time']).minute\n",
    "final_df['Second'] = pd.DatetimeIndex(final_df['Date/Time']).second"
   ]
  },
  {
   "cell_type": "code",
   "execution_count": 16,
   "id": "5b25b29d",
   "metadata": {
    "scrolled": false
   },
   "outputs": [
    {
     "data": {
      "text/html": [
       "<div>\n",
       "<style scoped>\n",
       "    .dataframe tbody tr th:only-of-type {\n",
       "        vertical-align: middle;\n",
       "    }\n",
       "\n",
       "    .dataframe tbody tr th {\n",
       "        vertical-align: top;\n",
       "    }\n",
       "\n",
       "    .dataframe thead th {\n",
       "        text-align: right;\n",
       "    }\n",
       "</style>\n",
       "<table border=\"1\" class=\"dataframe\">\n",
       "  <thead>\n",
       "    <tr style=\"text-align: right;\">\n",
       "      <th></th>\n",
       "      <th>Date/Time</th>\n",
       "      <th>Lat</th>\n",
       "      <th>Lon</th>\n",
       "      <th>Base</th>\n",
       "      <th>Month</th>\n",
       "      <th>Day</th>\n",
       "      <th>DOW</th>\n",
       "      <th>Hour</th>\n",
       "      <th>Minute</th>\n",
       "      <th>Second</th>\n",
       "    </tr>\n",
       "  </thead>\n",
       "  <tbody>\n",
       "    <tr>\n",
       "      <th>1028135</th>\n",
       "      <td>2014-09-30 22:58:00</td>\n",
       "      <td>40.7140</td>\n",
       "      <td>-73.9496</td>\n",
       "      <td>B02764</td>\n",
       "      <td>Sep</td>\n",
       "      <td>30</td>\n",
       "      <td>1</td>\n",
       "      <td>22</td>\n",
       "      <td>58</td>\n",
       "      <td>0</td>\n",
       "    </tr>\n",
       "    <tr>\n",
       "      <th>342707</th>\n",
       "      <td>2014-09-06 10:48:00</td>\n",
       "      <td>40.6733</td>\n",
       "      <td>-73.9763</td>\n",
       "      <td>B02617</td>\n",
       "      <td>Sep</td>\n",
       "      <td>6</td>\n",
       "      <td>5</td>\n",
       "      <td>10</td>\n",
       "      <td>48</td>\n",
       "      <td>0</td>\n",
       "    </tr>\n",
       "    <tr>\n",
       "      <th>342720</th>\n",
       "      <td>2014-09-06 10:50:00</td>\n",
       "      <td>40.7218</td>\n",
       "      <td>-73.9947</td>\n",
       "      <td>B02617</td>\n",
       "      <td>Sep</td>\n",
       "      <td>6</td>\n",
       "      <td>5</td>\n",
       "      <td>10</td>\n",
       "      <td>50</td>\n",
       "      <td>0</td>\n",
       "    </tr>\n",
       "    <tr>\n",
       "      <th>342719</th>\n",
       "      <td>2014-09-06 10:50:00</td>\n",
       "      <td>40.7933</td>\n",
       "      <td>-73.9152</td>\n",
       "      <td>B02617</td>\n",
       "      <td>Sep</td>\n",
       "      <td>6</td>\n",
       "      <td>5</td>\n",
       "      <td>10</td>\n",
       "      <td>50</td>\n",
       "      <td>0</td>\n",
       "    </tr>\n",
       "    <tr>\n",
       "      <th>342718</th>\n",
       "      <td>2014-09-06 10:50:00</td>\n",
       "      <td>40.7152</td>\n",
       "      <td>-74.0131</td>\n",
       "      <td>B02617</td>\n",
       "      <td>Sep</td>\n",
       "      <td>6</td>\n",
       "      <td>5</td>\n",
       "      <td>10</td>\n",
       "      <td>50</td>\n",
       "      <td>0</td>\n",
       "    </tr>\n",
       "    <tr>\n",
       "      <th>...</th>\n",
       "      <td>...</td>\n",
       "      <td>...</td>\n",
       "      <td>...</td>\n",
       "      <td>...</td>\n",
       "      <td>...</td>\n",
       "      <td>...</td>\n",
       "      <td>...</td>\n",
       "      <td>...</td>\n",
       "      <td>...</td>\n",
       "      <td>...</td>\n",
       "    </tr>\n",
       "    <tr>\n",
       "      <th>376351</th>\n",
       "      <td>2014-04-07 05:25:00</td>\n",
       "      <td>40.7283</td>\n",
       "      <td>-74.0031</td>\n",
       "      <td>B02682</td>\n",
       "      <td>Apr</td>\n",
       "      <td>7</td>\n",
       "      <td>0</td>\n",
       "      <td>5</td>\n",
       "      <td>25</td>\n",
       "      <td>0</td>\n",
       "    </tr>\n",
       "    <tr>\n",
       "      <th>376352</th>\n",
       "      <td>2014-04-07 05:25:00</td>\n",
       "      <td>40.6141</td>\n",
       "      <td>-73.9187</td>\n",
       "      <td>B02682</td>\n",
       "      <td>Apr</td>\n",
       "      <td>7</td>\n",
       "      <td>0</td>\n",
       "      <td>5</td>\n",
       "      <td>25</td>\n",
       "      <td>0</td>\n",
       "    </tr>\n",
       "    <tr>\n",
       "      <th>376353</th>\n",
       "      <td>2014-04-07 05:26:00</td>\n",
       "      <td>40.7341</td>\n",
       "      <td>-73.9812</td>\n",
       "      <td>B02682</td>\n",
       "      <td>Apr</td>\n",
       "      <td>7</td>\n",
       "      <td>0</td>\n",
       "      <td>5</td>\n",
       "      <td>26</td>\n",
       "      <td>0</td>\n",
       "    </tr>\n",
       "    <tr>\n",
       "      <th>376354</th>\n",
       "      <td>2014-04-07 05:26:00</td>\n",
       "      <td>40.7349</td>\n",
       "      <td>-73.9813</td>\n",
       "      <td>B02682</td>\n",
       "      <td>Apr</td>\n",
       "      <td>7</td>\n",
       "      <td>0</td>\n",
       "      <td>5</td>\n",
       "      <td>26</td>\n",
       "      <td>0</td>\n",
       "    </tr>\n",
       "    <tr>\n",
       "      <th>0</th>\n",
       "      <td>2014-04-01 00:11:00</td>\n",
       "      <td>40.7690</td>\n",
       "      <td>-73.9549</td>\n",
       "      <td>B02512</td>\n",
       "      <td>Apr</td>\n",
       "      <td>1</td>\n",
       "      <td>1</td>\n",
       "      <td>0</td>\n",
       "      <td>11</td>\n",
       "      <td>0</td>\n",
       "    </tr>\n",
       "  </tbody>\n",
       "</table>\n",
       "<p>4534327 rows × 10 columns</p>\n",
       "</div>"
      ],
      "text/plain": [
       "                  Date/Time      Lat      Lon    Base Month  Day  DOW  Hour  \\\n",
       "1028135 2014-09-30 22:58:00  40.7140 -73.9496  B02764   Sep   30    1    22   \n",
       "342707  2014-09-06 10:48:00  40.6733 -73.9763  B02617   Sep    6    5    10   \n",
       "342720  2014-09-06 10:50:00  40.7218 -73.9947  B02617   Sep    6    5    10   \n",
       "342719  2014-09-06 10:50:00  40.7933 -73.9152  B02617   Sep    6    5    10   \n",
       "342718  2014-09-06 10:50:00  40.7152 -74.0131  B02617   Sep    6    5    10   \n",
       "...                     ...      ...      ...     ...   ...  ...  ...   ...   \n",
       "376351  2014-04-07 05:25:00  40.7283 -74.0031  B02682   Apr    7    0     5   \n",
       "376352  2014-04-07 05:25:00  40.6141 -73.9187  B02682   Apr    7    0     5   \n",
       "376353  2014-04-07 05:26:00  40.7341 -73.9812  B02682   Apr    7    0     5   \n",
       "376354  2014-04-07 05:26:00  40.7349 -73.9813  B02682   Apr    7    0     5   \n",
       "0       2014-04-01 00:11:00  40.7690 -73.9549  B02512   Apr    1    1     0   \n",
       "\n",
       "         Minute  Second  \n",
       "1028135      58       0  \n",
       "342707       48       0  \n",
       "342720       50       0  \n",
       "342719       50       0  \n",
       "342718       50       0  \n",
       "...         ...     ...  \n",
       "376351       25       0  \n",
       "376352       25       0  \n",
       "376353       26       0  \n",
       "376354       26       0  \n",
       "0            11       0  \n",
       "\n",
       "[4534327 rows x 10 columns]"
      ]
     },
     "execution_count": 16,
     "metadata": {},
     "output_type": "execute_result"
    }
   ],
   "source": [
    "# Checkig the final Data set\n",
    "final_df"
   ]
  },
  {
   "cell_type": "code",
   "execution_count": 17,
   "id": "e87cc599",
   "metadata": {},
   "outputs": [],
   "source": [
    "# Few more imports\n",
    "import matplotlib.pyplot as plt # importing matplotlib for manipulating figures\n",
    "import ipywidgets # for interactivity\n",
    "import numpy as np\n",
    "import pandas as pd\n",
    "from pandas.api.types import is_numeric_dtype, is_datetime64_any_dtype #to check the data type of columns"
   ]
  },
  {
   "cell_type": "markdown",
   "id": "6b014846",
   "metadata": {},
   "source": [
    "## Creating the First plot for Interactivity "
   ]
  },
  {
   "cell_type": "code",
   "execution_count": 18,
   "id": "91b60f45",
   "metadata": {},
   "outputs": [],
   "source": [
    "import bqplot\n",
    "from bqplot import pyplot as plt\n",
    "\n",
    "fig = plt.figure(title=\"Rides Per Base Per Month\",\n",
    "                 #fig_margin={'top':50, 'bottom':20, 'left':150, 'right':150},\n",
    "                 legend_location=\"top-left\")\n",
    "\n",
    "month = final_df.groupby(['Month','Base'])['Date/Time'].count().unstack('Month')\n",
    "\n",
    "bar_chart  = plt.bar(x = month.index.tolist(), y= month.T.to_numpy(),\n",
    "                     labels = month.columns.tolist(),\n",
    "                     display_legend=True,\n",
    "                    interactions = {'click': 'select'},\n",
    "                 anchor_style = {'fill': 'white'},\n",
    "                 selected_style={'stroke': 'white', 'stroke-width': 3},\n",
    "                 unselected_style={'opacity':0.6})\n",
    "\n",
    "bar_chart.type = \"grouped\"\n",
    "\n",
    "bar_chart.colors = [\"violet\",\"fuchsia\",\"darkviolet\",\"rebeccapurple\",\"deeppink\",\"crimson\",\"red\" ]"
   ]
  },
  {
   "cell_type": "code",
   "execution_count": 19,
   "id": "7ad8c5b2",
   "metadata": {},
   "outputs": [],
   "source": [
    "# Defining the two plots in the first interactivity \n",
    "from bqplot import pyplot as plt\n",
    "from bqplot import LinearScale\n",
    "\n",
    "# Getting the max range for the rides to set the y limit \n",
    "y_max = month.max().max()\n",
    "y_linear = LinearScale(max=float(y_max))\n",
    "\n",
    "fig3 = plt.figure(title=\"Total Rides Per Base\",\n",
    "                 #fig_margin={'top':50, 'bottom':20, 'left':150, 'right':150},\n",
    "                 legend_location=\"top-left\")\n",
    "\n",
    "base = final_df.groupby(['Base']).size()\n",
    "\n",
    "\n",
    "base_chart  = plt.bar(x = base.index.tolist(), y= base.to_numpy(),\n",
    "                    interactions = {'click': 'select'},\n",
    "                 anchor_style = {'fill': 'white'},\n",
    "                 selected_style={'stroke': 'white', 'stroke-width': 3},\n",
    "                 unselected_style={'opacity':0.6})\n",
    "# bar_chart.ylim(0, y_max+1000)\n",
    "\n",
    "base_chart.colors = [\"red\"]\n",
    "\n",
    "#Sizing the figure in the first part of the dahboard\n",
    "fig3.layout.width='50%'\n",
    "\n",
    "\n",
    "#Creating the second plot for the first part of the dashboard\n",
    "m1 = final_df.groupby(['Month']).size()\n",
    "\n",
    "fig4 = plt.figure(title=\"Rides Month wise for the Base\")\n",
    "\n",
    "\n",
    "m1_plot  = plt.bar(x = m1.index.tolist(), y= m1.to_numpy())\n",
    "\n",
    "\n",
    "m1_plot.colors = [\"bisque\",\"tan\",\"lavender\",\"lightpink\",\"aqua\",\"beige\"]\n",
    "\n",
    "fig4.layout.width='50%'"
   ]
  },
  {
   "cell_type": "markdown",
   "id": "c27c5272",
   "metadata": {},
   "source": [
    "### The Interactivity "
   ]
  },
  {
   "cell_type": "markdown",
   "id": "ca4feeaf",
   "metadata": {},
   "source": [
    "### About the Interactivity...\n",
    "\n",
    "I have created two bar plots for the dashboard:</br>\n",
    "The first one represents the total rides per base, so a base is an area allocated to a certain latitudinal and longitudinal range, so the first bar plot is just a total of the rides for each base.\n",
    "\n",
    "The second plot is for the monthly rides for each of these bases starting April through September 2014.\n",
    "\n",
    "### How does it work?\n",
    "\n",
    "Each bar in the first plot represents the total rides for that particular Base. The second bar plot is the month wise division of rides for that base. So when a user selects a bar on the first plot ( basically a particlar Base is selected ) then a relative bar plot showing the month wise rides for that Base is generated as a result. For example if a user selects the bar for Base B02512 then the relative bar plot on the right will have the month wise division of rides for B02512 i.e rides in April, May, June, July, August and September. </br>\n"
   ]
  },
  {
   "cell_type": "code",
   "execution_count": 20,
   "id": "694bbcd3",
   "metadata": {},
   "outputs": [
    {
     "data": {
      "application/vnd.jupyter.widget-view+json": {
       "model_id": "93611a919aff426e8996844d0d2fe277",
       "version_major": 2,
       "version_minor": 0
      },
      "text/plain": [
       "HBox(children=(Figure(axes=[Axis(scale=OrdinalScale()), Axis(orientation='vertical', scale=LinearScale())], fi…"
      ]
     },
     "metadata": {},
     "output_type": "display_data"
    }
   ],
   "source": [
    "#Code for interactivity between the bar plots \n",
    "\n",
    "out = ipywidgets.Output()\n",
    "\n",
    "def on_selected_base(self, change, final_df):\n",
    "#     print(change, self)\n",
    "    base = None\n",
    "    month = None\n",
    "    if len(self.selected) == 0:\n",
    "            label.value = 'No data selected!!'\n",
    "            return\n",
    "    base = self.x[change['data']['index']]\n",
    "\n",
    "    \n",
    "    subset = final_df.loc[(final_df['Base'] == base)]\n",
    "    \n",
    "    dow = subset.groupby(['Month']).size()\n",
    "    \n",
    "    m1_plot.x = dow.index.tolist()\n",
    "    m1_plot.y = dow.values.tolist()\n",
    "    \n",
    "base_chart.on_element_click(lambda _, x: on_selected_base(_, x, final_df))\n",
    "\n",
    "db = ipywidgets.HBox([fig3, fig4])\n",
    "db"
   ]
  },
  {
   "cell_type": "markdown",
   "id": "75c416ab",
   "metadata": {},
   "source": [
    "# Contextual Data \n",
    "\n",
    "For the contextual data I have taken data similar to the primary data set, but for a different time frame. My primary aim is to compare the results out of the two data sets and draw patterns for the overlapping months while also draw a few observation for the months that differ in both the data sets.\n",
    "\n",
    "Below are the two visulaizations that give information about the rides bases on a few time parameters which could help uber understand when do they need to improve their sales and number of rides.\n"
   ]
  },
  {
   "cell_type": "code",
   "execution_count": 21,
   "id": "bb25ab07",
   "metadata": {
    "scrolled": true
   },
   "outputs": [],
   "source": [
    "# Reading the data \n",
    "daf2=pd.read_csv(\"uber-raw-data-janjune-15.zip\", compression='zip')"
   ]
  },
  {
   "cell_type": "code",
   "execution_count": 22,
   "id": "a785b86e",
   "metadata": {},
   "outputs": [],
   "source": [
    "# Converting to datetime to ease the process of extraction\n",
    "daf2['Pickup_date'] = pd.to_datetime(daf2['Pickup_date'])"
   ]
  },
  {
   "cell_type": "code",
   "execution_count": 23,
   "id": "b8067a6e",
   "metadata": {},
   "outputs": [],
   "source": [
    "#Extracting the month \n",
    "daf2['month'] = daf2['Pickup_date'].dt.month"
   ]
  },
  {
   "cell_type": "code",
   "execution_count": 24,
   "id": "25563bc1",
   "metadata": {},
   "outputs": [
    {
     "data": {
      "text/plain": [
       "array([5, 1, 3, 2, 6, 4], dtype=int64)"
      ]
     },
     "execution_count": 24,
     "metadata": {},
     "output_type": "execute_result"
    }
   ],
   "source": [
    "# Checking the months\n",
    "daf2['month'].unique()"
   ]
  },
  {
   "cell_type": "code",
   "execution_count": 25,
   "id": "5b8bbcd5",
   "metadata": {},
   "outputs": [],
   "source": [
    "# extracting the day\n",
    "daf2['day'] = daf2['Pickup_date'].dt.day"
   ]
  },
  {
   "cell_type": "code",
   "execution_count": 26,
   "id": "5d40d805",
   "metadata": {},
   "outputs": [
    {
     "data": {
      "text/html": [
       "<div>\n",
       "<style scoped>\n",
       "    .dataframe tbody tr th:only-of-type {\n",
       "        vertical-align: middle;\n",
       "    }\n",
       "\n",
       "    .dataframe tbody tr th {\n",
       "        vertical-align: top;\n",
       "    }\n",
       "\n",
       "    .dataframe thead th {\n",
       "        text-align: right;\n",
       "    }\n",
       "</style>\n",
       "<table border=\"1\" class=\"dataframe\">\n",
       "  <thead>\n",
       "    <tr style=\"text-align: right;\">\n",
       "      <th></th>\n",
       "      <th>Dispatching_base_num</th>\n",
       "      <th>Pickup_date</th>\n",
       "      <th>Affiliated_base_num</th>\n",
       "      <th>locationID</th>\n",
       "      <th>month</th>\n",
       "      <th>day</th>\n",
       "    </tr>\n",
       "  </thead>\n",
       "  <tbody>\n",
       "    <tr>\n",
       "      <th>0</th>\n",
       "      <td>B02617</td>\n",
       "      <td>2015-05-17 09:47:00</td>\n",
       "      <td>B02617</td>\n",
       "      <td>141</td>\n",
       "      <td>5</td>\n",
       "      <td>17</td>\n",
       "    </tr>\n",
       "    <tr>\n",
       "      <th>1</th>\n",
       "      <td>B02617</td>\n",
       "      <td>2015-05-17 09:47:00</td>\n",
       "      <td>B02617</td>\n",
       "      <td>65</td>\n",
       "      <td>5</td>\n",
       "      <td>17</td>\n",
       "    </tr>\n",
       "    <tr>\n",
       "      <th>2</th>\n",
       "      <td>B02617</td>\n",
       "      <td>2015-05-17 09:47:00</td>\n",
       "      <td>B02617</td>\n",
       "      <td>100</td>\n",
       "      <td>5</td>\n",
       "      <td>17</td>\n",
       "    </tr>\n",
       "    <tr>\n",
       "      <th>3</th>\n",
       "      <td>B02617</td>\n",
       "      <td>2015-05-17 09:47:00</td>\n",
       "      <td>B02774</td>\n",
       "      <td>80</td>\n",
       "      <td>5</td>\n",
       "      <td>17</td>\n",
       "    </tr>\n",
       "    <tr>\n",
       "      <th>4</th>\n",
       "      <td>B02617</td>\n",
       "      <td>2015-05-17 09:47:00</td>\n",
       "      <td>B02617</td>\n",
       "      <td>90</td>\n",
       "      <td>5</td>\n",
       "      <td>17</td>\n",
       "    </tr>\n",
       "    <tr>\n",
       "      <th>...</th>\n",
       "      <td>...</td>\n",
       "      <td>...</td>\n",
       "      <td>...</td>\n",
       "      <td>...</td>\n",
       "      <td>...</td>\n",
       "      <td>...</td>\n",
       "    </tr>\n",
       "    <tr>\n",
       "      <th>14270474</th>\n",
       "      <td>B02765</td>\n",
       "      <td>2015-05-08 15:43:00</td>\n",
       "      <td>B02765</td>\n",
       "      <td>186</td>\n",
       "      <td>5</td>\n",
       "      <td>8</td>\n",
       "    </tr>\n",
       "    <tr>\n",
       "      <th>14270475</th>\n",
       "      <td>B02765</td>\n",
       "      <td>2015-05-08 15:43:00</td>\n",
       "      <td>B02765</td>\n",
       "      <td>263</td>\n",
       "      <td>5</td>\n",
       "      <td>8</td>\n",
       "    </tr>\n",
       "    <tr>\n",
       "      <th>14270476</th>\n",
       "      <td>B02765</td>\n",
       "      <td>2015-05-08 15:43:00</td>\n",
       "      <td>B02765</td>\n",
       "      <td>90</td>\n",
       "      <td>5</td>\n",
       "      <td>8</td>\n",
       "    </tr>\n",
       "    <tr>\n",
       "      <th>14270477</th>\n",
       "      <td>B02765</td>\n",
       "      <td>2015-05-08 15:44:00</td>\n",
       "      <td>B01899</td>\n",
       "      <td>45</td>\n",
       "      <td>5</td>\n",
       "      <td>8</td>\n",
       "    </tr>\n",
       "    <tr>\n",
       "      <th>14270478</th>\n",
       "      <td>B02765</td>\n",
       "      <td>2015-05-08 15:44:00</td>\n",
       "      <td>B02682</td>\n",
       "      <td>144</td>\n",
       "      <td>5</td>\n",
       "      <td>8</td>\n",
       "    </tr>\n",
       "  </tbody>\n",
       "</table>\n",
       "<p>14270479 rows × 6 columns</p>\n",
       "</div>"
      ],
      "text/plain": [
       "         Dispatching_base_num         Pickup_date Affiliated_base_num  \\\n",
       "0                      B02617 2015-05-17 09:47:00              B02617   \n",
       "1                      B02617 2015-05-17 09:47:00              B02617   \n",
       "2                      B02617 2015-05-17 09:47:00              B02617   \n",
       "3                      B02617 2015-05-17 09:47:00              B02774   \n",
       "4                      B02617 2015-05-17 09:47:00              B02617   \n",
       "...                       ...                 ...                 ...   \n",
       "14270474               B02765 2015-05-08 15:43:00              B02765   \n",
       "14270475               B02765 2015-05-08 15:43:00              B02765   \n",
       "14270476               B02765 2015-05-08 15:43:00              B02765   \n",
       "14270477               B02765 2015-05-08 15:44:00              B01899   \n",
       "14270478               B02765 2015-05-08 15:44:00              B02682   \n",
       "\n",
       "          locationID  month  day  \n",
       "0                141      5   17  \n",
       "1                 65      5   17  \n",
       "2                100      5   17  \n",
       "3                 80      5   17  \n",
       "4                 90      5   17  \n",
       "...              ...    ...  ...  \n",
       "14270474         186      5    8  \n",
       "14270475         263      5    8  \n",
       "14270476          90      5    8  \n",
       "14270477          45      5    8  \n",
       "14270478         144      5    8  \n",
       "\n",
       "[14270479 rows x 6 columns]"
      ]
     },
     "execution_count": 26,
     "metadata": {},
     "output_type": "execute_result"
    }
   ],
   "source": [
    "daf2"
   ]
  },
  {
   "cell_type": "code",
   "execution_count": 27,
   "id": "95b8bdbe",
   "metadata": {},
   "outputs": [],
   "source": [
    "# Extracting the day of the week \n",
    "daf2['dow'] = daf2['Pickup_date'].dt.dayofweek"
   ]
  },
  {
   "cell_type": "code",
   "execution_count": 28,
   "id": "2b3a4625",
   "metadata": {},
   "outputs": [],
   "source": [
    "#Sorting the data according to the month \n",
    "#daf2=daf2.sort_values(by='month', ascending=False)\n",
    "\n",
    "#Converting the month values to month names \n",
    "#daf2['month'] = daf2['month'].apply(lambda x: calendar.month_abbr[x])"
   ]
  },
  {
   "cell_type": "markdown",
   "id": "418bf774",
   "metadata": {},
   "source": [
    "### Contextual Visulization 1\n",
    "\n",
    "I have created a two visulaizations with the primary data, the visulaization I have created here is a direct comparision to the first one where the trips for every different day in the month are calculated for the given months. We have a few visual observatons like the trips for the 29th, 30th and 31st day don't exist for February since its short month. </br>\n",
    "Comparing the two we can see that the maximum for earlier was around 160,000 where as for this data set it is 500,000.</br>\n",
    "We can draw many such conclusions and take actions accordingly.\n"
   ]
  },
  {
   "cell_type": "code",
   "execution_count": 29,
   "id": "60409c8a",
   "metadata": {},
   "outputs": [
    {
     "data": {
      "text/plain": [
       "<matplotlib.legend.Legend at 0x2b150802508>"
      ]
     },
     "execution_count": 29,
     "metadata": {},
     "output_type": "execute_result"
    },
    {
     "data": {
      "image/png": "[encoded data removed]",
      "text/plain": [
       "<Figure size 432x288 with 1 Axes>"
      ]
     },
     "metadata": {
      "needs_background": "light"
     },
     "output_type": "display_data"
    }
   ],
   "source": [
    "# Trips EVery Day for each Month \n",
    "#1 - April\n",
    "#2 - Feb\n",
    "#3- Jan\n",
    "#4 - jun\n",
    "#5- Mar\n",
    "#6- May\n",
    "\n",
    "daf2.groupby(['month','day'])['day'].count().unstack('month').plot.bar(stacked=True,color=(\"darksalmon\",\"coral\",\"orangered\",\"sandybrown\",\"chocolate\",\"saddlebrown\"),title=\"Trips by Every Day\").legend(bbox_to_anchor=(1.2, 1))"
   ]
  },
  {
   "cell_type": "markdown",
   "id": "32d81249",
   "metadata": {},
   "source": [
    "## Contextual Visualization 2 \n",
    "\n",
    "The second viz in with the primary data set is about the trips by day of week for each of the months and the viz below is the exact same one helping for direct comparision.\n",
    "A few visual comparisions would be that the trips in April, May and June have almost tripled or more in number with Tuesday being the leading trips day for April which wasn't the case earlier where Monday was the leading day nd we can draw many such conclusions."
   ]
  },
  {
   "cell_type": "code",
   "execution_count": 30,
   "id": "f9eeb590",
   "metadata": {},
   "outputs": [
    {
     "data": {
      "text/plain": [
       "<matplotlib.legend.Legend at 0x2b10ecaa148>"
      ]
     },
     "execution_count": 30,
     "metadata": {},
     "output_type": "execute_result"
    },
    {
     "data": {
      "image/png": "[encoded data removed]",
      "text/plain": [
       "<Figure size 720x504 with 1 Axes>"
      ]
     },
     "metadata": {
      "needs_background": "light"
     },
     "output_type": "display_data"
    }
   ],
   "source": [
    "# Trips by Day of the Week for each month\n",
    "#0 - Sunday\n",
    "#1 - Monday\n",
    "#2 - Tuesday\n",
    "#3 - Wednesday\n",
    "#4 - Thursday\n",
    "#5 - Friday\n",
    "#6 - Saturday\n",
    "\n",
    "daf2.groupby(['month','dow'])['month'].count().unstack('dow').plot.bar(stacked=False,color=(\"slateblue\",\"rebeccapurple\",\"darkviolet\",\"violet\",\"fuchsia\",\"deeppink\",\"crimson\"),title=\"Trips by Day for each Month\",figsize=(10,7),width=0.8,legend=False).legend(bbox_to_anchor=(1.2, 1))\n"
   ]
  },
  {
   "cell_type": "code",
   "execution_count": null,
   "id": "95473c78",
   "metadata": {},
   "outputs": [],
   "source": []
  }
 ],
 "metadata": {
  "kernelspec": {
   "display_name": "Python 3 (ipykernel)",
   "language": "python",
   "name": "python3"
  },
  "language_info": {
   "codemirror_mode": {
    "name": "ipython",
    "version": 3
   },
   "file_extension": ".py",
   "mimetype": "text/x-python",
   "name": "python",
   "nbconvert_exporter": "python",
   "pygments_lexer": "ipython3",
   "version": "3.7.10"
  }
 },
 "nbformat": 4,
 "nbformat_minor": 5
}
